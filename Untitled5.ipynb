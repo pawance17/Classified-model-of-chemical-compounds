{
  "nbformat": 4,
  "nbformat_minor": 0,
  "metadata": {
    "colab": {
      "name": "Untitled5.ipynb",
      "provenance": [],
      "collapsed_sections": []
    },
    "kernelspec": {
      "name": "python3",
      "display_name": "Python 3"
    },
    "accelerator": "GPU"
  },
  "cells": [
    {
      "cell_type": "code",
      "metadata": {
        "id": "jN9V-fqX7DKZ",
        "colab_type": "code",
        "colab": {}
      },
      "source": [
        "from sklearn.preprocessing import Normalizer\n",
        "import pandas as pd\n",
        "import numpy as np\n",
        "import matplotlib.pyplot as plt\n",
        "\n",
        "\n",
        "from sklearn import datasets, linear_model\n",
        "from sklearn.model_selection import train_test_split\n",
        "from matplotlib import pyplot as plt\n",
        "\n",
        "\n",
        "from sklearn.metrics import precision_score\n",
        "from sklearn.metrics import accuracy_score\n",
        "from sklearn.metrics import f1_score\n",
        "from sklearn.metrics import recall_score\n"
      ],
      "execution_count": 0,
      "outputs": []
    },
    {
      "cell_type": "code",
      "metadata": {
        "id": "F8ujcr6c7omN",
        "colab_type": "code",
        "colab": {}
      },
      "source": [
        "from pandas import read_csv\n",
        "from keras.models import Sequential\n",
        "from keras.layers import Dense\n",
        "from keras.wrappers.scikit_learn import KerasClassifier\n",
        "from sklearn.model_selection import cross_val_score\n",
        "from sklearn.preprocessing import LabelEncoder\n",
        "from sklearn.model_selection import StratifiedKFold"
      ],
      "execution_count": 0,
      "outputs": []
    },
    {
      "cell_type": "code",
      "metadata": {
        "id": "ZEWloMGp7s-S",
        "colab_type": "code",
        "colab": {}
      },
      "source": [
        "\n",
        "df = pd.read_excel (r'musk_csv.xlsx')\n",
        "sheet_1 = pd.read_excel(r'musk_csv.xlsx',sheet_name = 0)"
      ],
      "execution_count": 0,
      "outputs": []
    },
    {
      "cell_type": "code",
      "metadata": {
        "id": "kjO5dM9h79SI",
        "colab_type": "code",
        "colab": {}
      },
      "source": [
        "x = sheet_1[sheet_1.columns[3:167]]\n",
        "y = sheet_1['class']\n",
        "y = np.transpose(y)\n"
      ],
      "execution_count": 0,
      "outputs": []
    },
    {
      "cell_type": "code",
      "metadata": {
        "id": "fK3_90K-lqc9",
        "colab_type": "code",
        "colab": {}
      },
      "source": [
        "normalize = Normalizer()\n",
        "x = normalize.fit_transform(x)"
      ],
      "execution_count": 0,
      "outputs": []
    },
    {
      "cell_type": "code",
      "metadata": {
        "id": "t3zac2U_8Exg",
        "colab_type": "code",
        "colab": {}
      },
      "source": [
        "train_X, test_X, train_y, test_y = train_test_split(x, y, \n",
        "                                                    train_size=0.8,\n",
        "                                                    test_size=0.2\n",
        "                                                    )\n",
        "#print(\"Labels for training and testing data\")\n",
        "#print(train_y)\n",
        "#print(test_y)\n"
      ],
      "execution_count": 0,
      "outputs": []
    },
    {
      "cell_type": "code",
      "metadata": {
        "id": "X1qG2-S78Iqd",
        "colab_type": "code",
        "colab": {
          "base_uri": "https://localhost:8080/",
          "height": 36
        },
        "outputId": "3e557d44-4601-4207-ff9d-3dc629e00d53"
      },
      "source": [
        "import keras\n",
        "from keras.optimizers import Adam \n",
        "encoder = LabelEncoder()\n",
        "encoded_train_y = keras.utils.to_categorical(train_y)\n",
        "#encoded_test_y = encoder.transform(test_y)\n",
        "#print(encoded_y)\n",
        "\n",
        "print(np.shape(encoded_train_y))"
      ],
      "execution_count": 10,
      "outputs": [
        {
          "output_type": "stream",
          "text": [
            "(5278, 2)\n"
          ],
          "name": "stdout"
        }
      ]
    },
    {
      "cell_type": "code",
      "metadata": {
        "id": "lru9hgJq8M1Y",
        "colab_type": "code",
        "colab": {}
      },
      "source": [
        "def get_model(trainX, trainy):\n",
        "    # define model\n",
        "    model = Sequential()\n",
        "    model.add(Dense(164, input_dim=164))\n",
        "    model.add(Dense(164))\n",
        "    model.add(Dense(2, activation='softmax'))\n",
        "    # compile model\n",
        "    opt = Adam(lr=0.000001)\n",
        "    model.compile(loss='binary_crossentropy', optimizer=opt, metrics=['accuracy'])\n",
        "    # fit model\n",
        "    return model"
      ],
      "execution_count": 0,
      "outputs": []
    },
    {
      "cell_type": "code",
      "metadata": {
        "id": "HTFjSfw78QlG",
        "colab_type": "code",
        "colab": {
          "base_uri": "https://localhost:8080/",
          "height": 1000
        },
        "outputId": "032c97e0-390d-4122-9be3-c51199317677"
      },
      "source": [
        "model = get_model(train_X, encoded_train_y)\n",
        "graph = model.fit(train_X, encoded_train_y, epochs=100, verbose=1, validation_split = 0.2)"
      ],
      "execution_count": 12,
      "outputs": [
        {
          "output_type": "stream",
          "text": [
            "WARNING:tensorflow:From /usr/local/lib/python3.6/dist-packages/keras/backend/tensorflow_backend.py:66: The name tf.get_default_graph is deprecated. Please use tf.compat.v1.get_default_graph instead.\n",
            "\n",
            "WARNING:tensorflow:From /usr/local/lib/python3.6/dist-packages/keras/backend/tensorflow_backend.py:541: The name tf.placeholder is deprecated. Please use tf.compat.v1.placeholder instead.\n",
            "\n",
            "WARNING:tensorflow:From /usr/local/lib/python3.6/dist-packages/keras/backend/tensorflow_backend.py:4432: The name tf.random_uniform is deprecated. Please use tf.random.uniform instead.\n",
            "\n",
            "WARNING:tensorflow:From /usr/local/lib/python3.6/dist-packages/keras/optimizers.py:793: The name tf.train.Optimizer is deprecated. Please use tf.compat.v1.train.Optimizer instead.\n",
            "\n",
            "WARNING:tensorflow:From /usr/local/lib/python3.6/dist-packages/keras/backend/tensorflow_backend.py:3657: The name tf.log is deprecated. Please use tf.math.log instead.\n",
            "\n",
            "WARNING:tensorflow:From /usr/local/lib/python3.6/dist-packages/tensorflow_core/python/ops/nn_impl.py:183: where (from tensorflow.python.ops.array_ops) is deprecated and will be removed in a future version.\n",
            "Instructions for updating:\n",
            "Use tf.where in 2.0, which has the same broadcast rule as np.where\n",
            "WARNING:tensorflow:From /usr/local/lib/python3.6/dist-packages/keras/backend/tensorflow_backend.py:1033: The name tf.assign_add is deprecated. Please use tf.compat.v1.assign_add instead.\n",
            "\n",
            "WARNING:tensorflow:From /usr/local/lib/python3.6/dist-packages/keras/backend/tensorflow_backend.py:1020: The name tf.assign is deprecated. Please use tf.compat.v1.assign instead.\n",
            "\n",
            "WARNING:tensorflow:From /usr/local/lib/python3.6/dist-packages/keras/backend/tensorflow_backend.py:3005: The name tf.Session is deprecated. Please use tf.compat.v1.Session instead.\n",
            "\n",
            "Train on 4222 samples, validate on 1056 samples\n",
            "Epoch 1/100\n",
            "WARNING:tensorflow:From /usr/local/lib/python3.6/dist-packages/keras/backend/tensorflow_backend.py:190: The name tf.get_default_session is deprecated. Please use tf.compat.v1.get_default_session instead.\n",
            "\n",
            "WARNING:tensorflow:From /usr/local/lib/python3.6/dist-packages/keras/backend/tensorflow_backend.py:197: The name tf.ConfigProto is deprecated. Please use tf.compat.v1.ConfigProto instead.\n",
            "\n",
            "WARNING:tensorflow:From /usr/local/lib/python3.6/dist-packages/keras/backend/tensorflow_backend.py:207: The name tf.global_variables is deprecated. Please use tf.compat.v1.global_variables instead.\n",
            "\n",
            "WARNING:tensorflow:From /usr/local/lib/python3.6/dist-packages/keras/backend/tensorflow_backend.py:216: The name tf.is_variable_initialized is deprecated. Please use tf.compat.v1.is_variable_initialized instead.\n",
            "\n",
            "WARNING:tensorflow:From /usr/local/lib/python3.6/dist-packages/keras/backend/tensorflow_backend.py:223: The name tf.variables_initializer is deprecated. Please use tf.compat.v1.variables_initializer instead.\n",
            "\n",
            "4222/4222 [==============================] - 10s 2ms/step - loss: 5.0649 - acc: 0.6625 - val_loss: 4.8520 - val_acc: 0.6790\n",
            "Epoch 2/100\n",
            "4222/4222 [==============================] - 1s 121us/step - loss: 4.2961 - acc: 0.7146 - val_loss: 4.0303 - val_acc: 0.7320\n",
            "Epoch 3/100\n",
            "4222/4222 [==============================] - 1s 123us/step - loss: 3.7658 - acc: 0.7508 - val_loss: 3.6914 - val_acc: 0.7538\n",
            "Epoch 4/100\n",
            "4222/4222 [==============================] - 1s 119us/step - loss: 3.4688 - acc: 0.7707 - val_loss: 3.3491 - val_acc: 0.7831\n",
            "Epoch 5/100\n",
            "4222/4222 [==============================] - 1s 119us/step - loss: 3.2609 - acc: 0.7873 - val_loss: 3.2352 - val_acc: 0.7917\n",
            "Epoch 6/100\n",
            "4222/4222 [==============================] - 1s 124us/step - loss: 3.1115 - acc: 0.7989 - val_loss: 3.0924 - val_acc: 0.7983\n",
            "Epoch 7/100\n",
            "4222/4222 [==============================] - 1s 120us/step - loss: 2.9775 - acc: 0.8074 - val_loss: 2.9613 - val_acc: 0.8125\n",
            "Epoch 8/100\n",
            "4222/4222 [==============================] - 1s 127us/step - loss: 2.8744 - acc: 0.8160 - val_loss: 2.9216 - val_acc: 0.8163\n",
            "Epoch 9/100\n",
            "4222/4222 [==============================] - 1s 126us/step - loss: 2.7635 - acc: 0.8221 - val_loss: 2.8405 - val_acc: 0.8201\n",
            "Epoch 10/100\n",
            "4222/4222 [==============================] - 1s 123us/step - loss: 2.6842 - acc: 0.8292 - val_loss: 2.7802 - val_acc: 0.8210\n",
            "Epoch 11/100\n",
            "4222/4222 [==============================] - 0s 115us/step - loss: 2.6340 - acc: 0.8316 - val_loss: 2.7282 - val_acc: 0.8267\n",
            "Epoch 12/100\n",
            "4222/4222 [==============================] - 0s 116us/step - loss: 2.6051 - acc: 0.8354 - val_loss: 2.7164 - val_acc: 0.8277\n",
            "Epoch 13/100\n",
            "4222/4222 [==============================] - 0s 117us/step - loss: 2.5819 - acc: 0.8368 - val_loss: 2.7128 - val_acc: 0.8286\n",
            "Epoch 14/100\n",
            "4222/4222 [==============================] - 0s 117us/step - loss: 2.5424 - acc: 0.8389 - val_loss: 2.6978 - val_acc: 0.8295\n",
            "Epoch 15/100\n",
            "4222/4222 [==============================] - 0s 114us/step - loss: 2.5213 - acc: 0.8415 - val_loss: 2.6844 - val_acc: 0.8295\n",
            "Epoch 16/100\n",
            "4222/4222 [==============================] - 0s 115us/step - loss: 2.5173 - acc: 0.8425 - val_loss: 2.6792 - val_acc: 0.8305\n",
            "Epoch 17/100\n",
            "4222/4222 [==============================] - 0s 114us/step - loss: 2.5156 - acc: 0.8427 - val_loss: 2.6764 - val_acc: 0.8305\n",
            "Epoch 18/100\n",
            "4222/4222 [==============================] - 1s 119us/step - loss: 2.5146 - acc: 0.8427 - val_loss: 2.6721 - val_acc: 0.8305\n",
            "Epoch 19/100\n",
            "4222/4222 [==============================] - 0s 115us/step - loss: 2.5131 - acc: 0.8427 - val_loss: 2.6696 - val_acc: 0.8324\n",
            "Epoch 20/100\n",
            "4222/4222 [==============================] - 1s 120us/step - loss: 2.5112 - acc: 0.8427 - val_loss: 2.6648 - val_acc: 0.8324\n",
            "Epoch 21/100\n",
            "4222/4222 [==============================] - 1s 124us/step - loss: 2.5079 - acc: 0.8432 - val_loss: 2.6531 - val_acc: 0.8324\n",
            "Epoch 22/100\n",
            "4222/4222 [==============================] - 0s 115us/step - loss: 2.5040 - acc: 0.8432 - val_loss: 2.6443 - val_acc: 0.8333\n",
            "Epoch 23/100\n",
            "4222/4222 [==============================] - 0s 117us/step - loss: 2.5006 - acc: 0.8432 - val_loss: 2.6428 - val_acc: 0.8343\n",
            "Epoch 24/100\n",
            "4222/4222 [==============================] - 0s 116us/step - loss: 2.4989 - acc: 0.8437 - val_loss: 2.6427 - val_acc: 0.8343\n",
            "Epoch 25/100\n",
            "4222/4222 [==============================] - 0s 117us/step - loss: 2.4981 - acc: 0.8439 - val_loss: 2.6432 - val_acc: 0.8343\n",
            "Epoch 26/100\n",
            "4222/4222 [==============================] - 0s 117us/step - loss: 2.4976 - acc: 0.8439 - val_loss: 2.6434 - val_acc: 0.8343\n",
            "Epoch 27/100\n",
            "4222/4222 [==============================] - 1s 119us/step - loss: 2.4970 - acc: 0.8441 - val_loss: 2.6428 - val_acc: 0.8343\n",
            "Epoch 28/100\n",
            "4222/4222 [==============================] - 0s 115us/step - loss: 2.4959 - acc: 0.8437 - val_loss: 2.6411 - val_acc: 0.8343\n",
            "Epoch 29/100\n",
            "4222/4222 [==============================] - 0s 116us/step - loss: 2.4938 - acc: 0.8439 - val_loss: 2.6357 - val_acc: 0.8343\n",
            "Epoch 30/100\n",
            "4222/4222 [==============================] - 0s 116us/step - loss: 2.4927 - acc: 0.8437 - val_loss: 2.6317 - val_acc: 0.8343\n",
            "Epoch 31/100\n",
            "4222/4222 [==============================] - 1s 120us/step - loss: 2.4911 - acc: 0.8441 - val_loss: 2.6287 - val_acc: 0.8343\n",
            "Epoch 32/100\n",
            "4222/4222 [==============================] - 1s 122us/step - loss: 2.4902 - acc: 0.8441 - val_loss: 2.6228 - val_acc: 0.8343\n",
            "Epoch 33/100\n",
            "4222/4222 [==============================] - 1s 119us/step - loss: 2.4885 - acc: 0.8439 - val_loss: 2.6196 - val_acc: 0.8343\n",
            "Epoch 34/100\n",
            "4222/4222 [==============================] - 1s 121us/step - loss: 2.4876 - acc: 0.8446 - val_loss: 2.6168 - val_acc: 0.8352\n",
            "Epoch 35/100\n",
            "4222/4222 [==============================] - 1s 127us/step - loss: 2.4866 - acc: 0.8446 - val_loss: 2.6144 - val_acc: 0.8352\n",
            "Epoch 36/100\n",
            "4222/4222 [==============================] - 1s 123us/step - loss: 2.4860 - acc: 0.8441 - val_loss: 2.6134 - val_acc: 0.8362\n",
            "Epoch 37/100\n",
            "4222/4222 [==============================] - 0s 113us/step - loss: 2.4832 - acc: 0.8446 - val_loss: 2.6157 - val_acc: 0.8362\n",
            "Epoch 38/100\n",
            "4222/4222 [==============================] - 0s 114us/step - loss: 2.4811 - acc: 0.8446 - val_loss: 2.6157 - val_acc: 0.8362\n",
            "Epoch 39/100\n",
            "4222/4222 [==============================] - 0s 112us/step - loss: 2.4810 - acc: 0.8441 - val_loss: 2.6148 - val_acc: 0.8362\n",
            "Epoch 40/100\n",
            "4222/4222 [==============================] - 0s 115us/step - loss: 2.4796 - acc: 0.8444 - val_loss: 2.6119 - val_acc: 0.8362\n",
            "Epoch 41/100\n",
            "4222/4222 [==============================] - 0s 113us/step - loss: 2.4785 - acc: 0.8451 - val_loss: 2.6153 - val_acc: 0.8362\n",
            "Epoch 42/100\n",
            "4222/4222 [==============================] - 1s 127us/step - loss: 2.4777 - acc: 0.8444 - val_loss: 2.6137 - val_acc: 0.8362\n",
            "Epoch 43/100\n",
            "4222/4222 [==============================] - 0s 118us/step - loss: 2.4771 - acc: 0.8446 - val_loss: 2.6113 - val_acc: 0.8371\n",
            "Epoch 44/100\n",
            "4222/4222 [==============================] - 1s 119us/step - loss: 2.4759 - acc: 0.8453 - val_loss: 2.6153 - val_acc: 0.8362\n",
            "Epoch 45/100\n",
            "4222/4222 [==============================] - 0s 118us/step - loss: 2.4748 - acc: 0.8449 - val_loss: 2.6147 - val_acc: 0.8362\n",
            "Epoch 46/100\n",
            "4222/4222 [==============================] - 1s 119us/step - loss: 2.4732 - acc: 0.8449 - val_loss: 2.6136 - val_acc: 0.8362\n",
            "Epoch 47/100\n",
            "4222/4222 [==============================] - 0s 117us/step - loss: 2.4721 - acc: 0.8451 - val_loss: 2.6129 - val_acc: 0.8362\n",
            "Epoch 48/100\n",
            "4222/4222 [==============================] - 1s 121us/step - loss: 2.4711 - acc: 0.8446 - val_loss: 2.6130 - val_acc: 0.8362\n",
            "Epoch 49/100\n",
            "4222/4222 [==============================] - 0s 118us/step - loss: 2.4690 - acc: 0.8456 - val_loss: 2.6162 - val_acc: 0.8362\n",
            "Epoch 50/100\n",
            "4222/4222 [==============================] - 1s 123us/step - loss: 2.4671 - acc: 0.8453 - val_loss: 2.6194 - val_acc: 0.8362\n",
            "Epoch 51/100\n",
            "4222/4222 [==============================] - 1s 134us/step - loss: 2.4674 - acc: 0.8451 - val_loss: 2.6133 - val_acc: 0.8362\n",
            "Epoch 52/100\n",
            "4222/4222 [==============================] - 1s 128us/step - loss: 2.4649 - acc: 0.8456 - val_loss: 2.6136 - val_acc: 0.8362\n",
            "Epoch 53/100\n",
            "4222/4222 [==============================] - 0s 115us/step - loss: 2.4610 - acc: 0.8456 - val_loss: 2.6170 - val_acc: 0.8362\n",
            "Epoch 54/100\n",
            "4222/4222 [==============================] - 1s 119us/step - loss: 2.4576 - acc: 0.8453 - val_loss: 2.6128 - val_acc: 0.8362\n",
            "Epoch 55/100\n",
            "4222/4222 [==============================] - 0s 116us/step - loss: 2.4543 - acc: 0.8458 - val_loss: 2.6144 - val_acc: 0.8362\n",
            "Epoch 56/100\n",
            "4222/4222 [==============================] - 0s 116us/step - loss: 2.4536 - acc: 0.8456 - val_loss: 2.6125 - val_acc: 0.8362\n",
            "Epoch 57/100\n",
            "4222/4222 [==============================] - 0s 118us/step - loss: 2.4522 - acc: 0.8463 - val_loss: 2.6110 - val_acc: 0.8371\n",
            "Epoch 58/100\n",
            "4222/4222 [==============================] - 0s 117us/step - loss: 2.4526 - acc: 0.8463 - val_loss: 2.6110 - val_acc: 0.8371\n",
            "Epoch 59/100\n",
            "4222/4222 [==============================] - 1s 119us/step - loss: 2.4514 - acc: 0.8463 - val_loss: 2.6118 - val_acc: 0.8362\n",
            "Epoch 60/100\n",
            "4222/4222 [==============================] - 0s 115us/step - loss: 2.4510 - acc: 0.8463 - val_loss: 2.6146 - val_acc: 0.8362\n",
            "Epoch 61/100\n",
            "4222/4222 [==============================] - 1s 121us/step - loss: 2.4507 - acc: 0.8465 - val_loss: 2.6112 - val_acc: 0.8371\n",
            "Epoch 62/100\n",
            "4222/4222 [==============================] - 0s 114us/step - loss: 2.4504 - acc: 0.8465 - val_loss: 2.6115 - val_acc: 0.8371\n",
            "Epoch 63/100\n",
            "4222/4222 [==============================] - 1s 119us/step - loss: 2.4504 - acc: 0.8465 - val_loss: 2.6113 - val_acc: 0.8371\n",
            "Epoch 64/100\n",
            "4222/4222 [==============================] - 0s 111us/step - loss: 2.4500 - acc: 0.8468 - val_loss: 2.6113 - val_acc: 0.8371\n",
            "Epoch 65/100\n",
            "4222/4222 [==============================] - 0s 118us/step - loss: 2.4497 - acc: 0.8468 - val_loss: 2.6115 - val_acc: 0.8371\n",
            "Epoch 66/100\n",
            "4222/4222 [==============================] - 0s 117us/step - loss: 2.4493 - acc: 0.8472 - val_loss: 2.6118 - val_acc: 0.8362\n",
            "Epoch 67/100\n",
            "4222/4222 [==============================] - 1s 122us/step - loss: 2.4502 - acc: 0.8465 - val_loss: 2.6111 - val_acc: 0.8371\n",
            "Epoch 68/100\n",
            "4222/4222 [==============================] - 0s 117us/step - loss: 2.4492 - acc: 0.8468 - val_loss: 2.6112 - val_acc: 0.8371\n",
            "Epoch 69/100\n",
            "4222/4222 [==============================] - 0s 116us/step - loss: 2.4488 - acc: 0.8470 - val_loss: 2.6113 - val_acc: 0.8371\n",
            "Epoch 70/100\n",
            "4222/4222 [==============================] - 0s 115us/step - loss: 2.4484 - acc: 0.8472 - val_loss: 2.6116 - val_acc: 0.8371\n",
            "Epoch 71/100\n",
            "4222/4222 [==============================] - 0s 118us/step - loss: 2.4478 - acc: 0.8470 - val_loss: 2.6116 - val_acc: 0.8371\n",
            "Epoch 72/100\n",
            "4222/4222 [==============================] - 0s 116us/step - loss: 2.4465 - acc: 0.8468 - val_loss: 2.6113 - val_acc: 0.8371\n",
            "Epoch 73/100\n",
            "4222/4222 [==============================] - 0s 117us/step - loss: 2.4465 - acc: 0.8468 - val_loss: 2.6110 - val_acc: 0.8371\n",
            "Epoch 74/100\n",
            "4222/4222 [==============================] - 0s 115us/step - loss: 2.4448 - acc: 0.8470 - val_loss: 2.6110 - val_acc: 0.8371\n",
            "Epoch 75/100\n",
            "4222/4222 [==============================] - 1s 126us/step - loss: 2.4446 - acc: 0.8470 - val_loss: 2.6110 - val_acc: 0.8371\n",
            "Epoch 76/100\n",
            "4222/4222 [==============================] - 0s 114us/step - loss: 2.4434 - acc: 0.8472 - val_loss: 2.6110 - val_acc: 0.8371\n",
            "Epoch 77/100\n",
            "4222/4222 [==============================] - 1s 127us/step - loss: 2.4435 - acc: 0.8472 - val_loss: 2.6110 - val_acc: 0.8371\n",
            "Epoch 78/100\n",
            "4222/4222 [==============================] - 0s 116us/step - loss: 2.4423 - acc: 0.8472 - val_loss: 2.6110 - val_acc: 0.8371\n",
            "Epoch 79/100\n",
            "4222/4222 [==============================] - 1s 119us/step - loss: 2.4422 - acc: 0.8475 - val_loss: 2.6110 - val_acc: 0.8371\n",
            "Epoch 80/100\n",
            "4222/4222 [==============================] - 1s 120us/step - loss: 2.4424 - acc: 0.8472 - val_loss: 2.6110 - val_acc: 0.8371\n",
            "Epoch 81/100\n",
            "4222/4222 [==============================] - 0s 118us/step - loss: 2.4421 - acc: 0.8472 - val_loss: 2.6110 - val_acc: 0.8371\n",
            "Epoch 82/100\n",
            "4222/4222 [==============================] - 0s 114us/step - loss: 2.4417 - acc: 0.8475 - val_loss: 2.6110 - val_acc: 0.8371\n",
            "Epoch 83/100\n",
            "4222/4222 [==============================] - 0s 118us/step - loss: 2.4421 - acc: 0.8470 - val_loss: 2.6110 - val_acc: 0.8371\n",
            "Epoch 84/100\n",
            "4222/4222 [==============================] - 0s 117us/step - loss: 2.4411 - acc: 0.8475 - val_loss: 2.6110 - val_acc: 0.8371\n",
            "Epoch 85/100\n",
            "4222/4222 [==============================] - 1s 121us/step - loss: 2.4407 - acc: 0.8477 - val_loss: 2.6111 - val_acc: 0.8371\n",
            "Epoch 86/100\n",
            "4222/4222 [==============================] - 0s 118us/step - loss: 2.4408 - acc: 0.8472 - val_loss: 2.6110 - val_acc: 0.8371\n",
            "Epoch 87/100\n",
            "4222/4222 [==============================] - 1s 121us/step - loss: 2.4404 - acc: 0.8475 - val_loss: 2.6110 - val_acc: 0.8371\n",
            "Epoch 88/100\n",
            "4222/4222 [==============================] - 0s 118us/step - loss: 2.4399 - acc: 0.8477 - val_loss: 2.6110 - val_acc: 0.8371\n",
            "Epoch 89/100\n",
            "4222/4222 [==============================] - 1s 120us/step - loss: 2.4394 - acc: 0.8477 - val_loss: 2.6110 - val_acc: 0.8371\n",
            "Epoch 90/100\n",
            "4222/4222 [==============================] - 1s 120us/step - loss: 2.4392 - acc: 0.8475 - val_loss: 2.6110 - val_acc: 0.8371\n",
            "Epoch 91/100\n",
            "4222/4222 [==============================] - 1s 120us/step - loss: 2.4389 - acc: 0.8477 - val_loss: 2.6110 - val_acc: 0.8371\n",
            "Epoch 92/100\n",
            "4222/4222 [==============================] - 0s 112us/step - loss: 2.4385 - acc: 0.8477 - val_loss: 2.6110 - val_acc: 0.8371\n",
            "Epoch 93/100\n",
            "4222/4222 [==============================] - 1s 125us/step - loss: 2.4381 - acc: 0.8477 - val_loss: 2.6110 - val_acc: 0.8371\n",
            "Epoch 94/100\n",
            "4222/4222 [==============================] - 0s 118us/step - loss: 2.4379 - acc: 0.8479 - val_loss: 2.6110 - val_acc: 0.8371\n",
            "Epoch 95/100\n",
            "4222/4222 [==============================] - 0s 115us/step - loss: 2.4377 - acc: 0.8479 - val_loss: 2.6110 - val_acc: 0.8371\n",
            "Epoch 96/100\n",
            "4222/4222 [==============================] - 0s 115us/step - loss: 2.4377 - acc: 0.8479 - val_loss: 2.6110 - val_acc: 0.8371\n",
            "Epoch 97/100\n",
            "4222/4222 [==============================] - 0s 116us/step - loss: 2.4377 - acc: 0.8479 - val_loss: 2.6110 - val_acc: 0.8371\n",
            "Epoch 98/100\n",
            "4222/4222 [==============================] - 0s 114us/step - loss: 2.4377 - acc: 0.8479 - val_loss: 2.6110 - val_acc: 0.8371\n",
            "Epoch 99/100\n",
            "4222/4222 [==============================] - 0s 113us/step - loss: 2.4376 - acc: 0.8479 - val_loss: 2.6110 - val_acc: 0.8371\n",
            "Epoch 100/100\n",
            "4222/4222 [==============================] - 1s 123us/step - loss: 2.4376 - acc: 0.8479 - val_loss: 2.6110 - val_acc: 0.8371\n"
          ],
          "name": "stdout"
        }
      ]
    },
    {
      "cell_type": "code",
      "metadata": {
        "id": "h-XjXG0x8UX-",
        "colab_type": "code",
        "colab": {}
      },
      "source": [
        ""
      ],
      "execution_count": 0,
      "outputs": []
    },
    {
      "cell_type": "code",
      "metadata": {
        "id": "7Yy0JhR7UvGP",
        "colab_type": "code",
        "colab": {}
      },
      "source": [
        "# predict probability for test set\n",
        "prob_y = model.predict(test_X, verbose=0)\n"
      ],
      "execution_count": 0,
      "outputs": []
    },
    {
      "cell_type": "code",
      "metadata": {
        "id": "bpy3ugDnUzWu",
        "colab_type": "code",
        "colab": {}
      },
      "source": [
        "# predict crisp classes for test set\n",
        "classes_y = model.predict_classes(test_X, verbose=0)"
      ],
      "execution_count": 0,
      "outputs": []
    },
    {
      "cell_type": "code",
      "metadata": {
        "id": "7B1RLxMXWPsM",
        "colab_type": "code",
        "colab": {
          "base_uri": "https://localhost:8080/",
          "height": 36
        },
        "outputId": "5ea11a6a-c4e3-48c5-a46f-ca7f21051700"
      },
      "source": [
        "#measure accuracy \n",
        "# accuracy: (tp + tn) / (p + n)\n",
        "accuracy = accuracy_score(test_y, classes_y)\n",
        "print('Accuracy: %f' % accuracy)\n",
        "\n",
        "\n"
      ],
      "execution_count": 25,
      "outputs": [
        {
          "output_type": "stream",
          "text": [
            "Accuracy: 0.858333\n"
          ],
          "name": "stdout"
        }
      ]
    },
    {
      "cell_type": "code",
      "metadata": {
        "id": "PSozyrQzWcz3",
        "colab_type": "code",
        "colab": {
          "base_uri": "https://localhost:8080/",
          "height": 36
        },
        "outputId": "fb301199-6de2-46db-c3a7-31abb46a197b"
      },
      "source": [
        "# precision tp / (tp + fp)\n",
        "precision = precision_score(test_y, classes_y)\n",
        "print('Precision: %f' % precision)"
      ],
      "execution_count": 26,
      "outputs": [
        {
          "output_type": "stream",
          "text": [
            "Precision: 0.666667\n"
          ],
          "name": "stdout"
        }
      ]
    },
    {
      "cell_type": "code",
      "metadata": {
        "id": "DBN8yzKKYq1G",
        "colab_type": "code",
        "colab": {
          "base_uri": "https://localhost:8080/",
          "height": 36
        },
        "outputId": "027d1272-5c17-4318-c21a-e942c504f4c6"
      },
      "source": [
        "# recall: tp / (tp + fn)\n",
        "recall = recall_score(test_y, classes_y)\n",
        "print('Recall: %f' % recall)"
      ],
      "execution_count": 27,
      "outputs": [
        {
          "output_type": "stream",
          "text": [
            "Recall: 0.021164\n"
          ],
          "name": "stdout"
        }
      ]
    },
    {
      "cell_type": "code",
      "metadata": {
        "id": "vu1UGhP4Y0Cq",
        "colab_type": "code",
        "colab": {
          "base_uri": "https://localhost:8080/",
          "height": 36
        },
        "outputId": "78809592-c4d7-4ea2-b6e4-adeb5bd78d9a"
      },
      "source": [
        "# f1: 2 tp / (2 tp + fp + fn)\n",
        "f1 = f1_score(test_y, classes_y)\n",
        "print('F1 score: %f' % f1)"
      ],
      "execution_count": 29,
      "outputs": [
        {
          "output_type": "stream",
          "text": [
            "F1 score: 0.041026\n"
          ],
          "name": "stdout"
        }
      ]
    },
    {
      "cell_type": "code",
      "metadata": {
        "id": "PSQRqYX9Y4Ql",
        "colab_type": "code",
        "colab": {}
      },
      "source": [
        "model.save_weights(\"model.h5\")"
      ],
      "execution_count": 0,
      "outputs": []
    },
    {
      "cell_type": "code",
      "metadata": {
        "id": "PYfe8Lnjbgt2",
        "colab_type": "code",
        "colab": {
          "base_uri": "https://localhost:8080/",
          "height": 573
        },
        "outputId": "4ce96af7-c14a-4eb2-8c99-4ef3cccdbaa4"
      },
      "source": [
        "plt.plot(graph.history[\"loss\"])\n",
        "plt.plot(graph.history[\"val_loss\"])\n",
        "plt.title('model loss')\n",
        "plt.ylabel('loss')\n",
        "plt.xlabel('epoch')\n",
        "plt.legend(['train', 'test'], loc='upper left')\n",
        "plt.show()\n",
        "\n",
        "\n",
        "plt.plot(graph.history[\"acc\"])\n",
        "plt.plot(graph.history[\"val_acc\"])\n",
        "plt.title('model accuracy')\n",
        "plt.ylabel('accuracy')\n",
        "plt.xlabel('epoch')\n",
        "plt.legend(['train', 'test'], loc='upper left')\n",
        "plt.show()"
      ],
      "execution_count": 37,
      "outputs": [
        {
          "output_type": "display_data",
          "data": {
            "image/png": "[encoded data removed]",
            "text/plain": [
              "<Figure size 432x288 with 1 Axes>"
            ]
          },
          "metadata": {
            "tags": []
          }
        },
        {
          "output_type": "display_data",
          "data": {
            "image/png": "[encoded data removed]",
            "text/plain": [
              "<Figure size 432x288 with 1 Axes>"
            ]
          },
          "metadata": {
            "tags": []
          }
        }
      ]
    },
    {
      "cell_type": "code",
      "metadata": {
        "id": "sEtxjjl9g3ah",
        "colab_type": "code",
        "colab": {}
      },
      "source": [
        ""
      ],
      "execution_count": 0,
      "outputs": []
    }
  ]
}